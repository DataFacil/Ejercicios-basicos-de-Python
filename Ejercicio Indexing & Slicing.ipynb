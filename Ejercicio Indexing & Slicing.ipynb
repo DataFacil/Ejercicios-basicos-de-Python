{
 "cells": [
  {
   "cell_type": "markdown",
   "id": "28fb083c",
   "metadata": {},
   "source": [
    "Extrae el último dígito de cada número telefónico.\n",
    "Identifica los primeros 6 dígitos de cada uno, sin contar el código de área.\n",
    "Identifica el código de área de cada número telefónico\n",
    "\n",
    "* +1 345-444-124\n",
    "* +56 954-425-875\n",
    "* +32 655-234-431"
   ]
  },
  {
   "cell_type": "code",
   "execution_count": 30,
   "id": "6d5c1b7a",
   "metadata": {},
   "outputs": [],
   "source": [
    "num1 = '+1 345-444-124'\n",
    "num2 = '+56 954-425-875'\n",
    "num3 = '+32 655-234-431'"
   ]
  },
  {
   "cell_type": "code",
   "execution_count": 33,
   "id": "165d0741",
   "metadata": {},
   "outputs": [
    {
     "data": {
      "text/plain": [
       "'4'"
      ]
     },
     "execution_count": 33,
     "metadata": {},
     "output_type": "execute_result"
    }
   ],
   "source": [
    "num1[13]"
   ]
  },
  {
   "cell_type": "code",
   "execution_count": 34,
   "id": "3fa9057a",
   "metadata": {},
   "outputs": [
    {
     "data": {
      "text/plain": [
       "'7'"
      ]
     },
     "execution_count": 34,
     "metadata": {},
     "output_type": "execute_result"
    }
   ],
   "source": [
    "num2[13]"
   ]
  },
  {
   "cell_type": "code",
   "execution_count": 35,
   "id": "32c71ff2",
   "metadata": {},
   "outputs": [
    {
     "data": {
      "text/plain": [
       "'4'"
      ]
     },
     "execution_count": 35,
     "metadata": {},
     "output_type": "execute_result"
    }
   ],
   "source": [
    "num1[-1]"
   ]
  },
  {
   "cell_type": "code",
   "execution_count": 36,
   "id": "83ba4ef1",
   "metadata": {},
   "outputs": [
    {
     "data": {
      "text/plain": [
       "'1'"
      ]
     },
     "execution_count": 36,
     "metadata": {},
     "output_type": "execute_result"
    }
   ],
   "source": [
    "num3[-1]"
   ]
  },
  {
   "cell_type": "code",
   "execution_count": 37,
   "id": "93c2f69a",
   "metadata": {},
   "outputs": [],
   "source": [
    "numeros = ['+1 345-444-124', '+56 954-425-875', '+32 655-234-431']"
   ]
  },
  {
   "cell_type": "code",
   "execution_count": 38,
   "id": "92381b68",
   "metadata": {},
   "outputs": [
    {
     "name": "stdout",
     "output_type": "stream",
     "text": [
      "4\n",
      "5\n",
      "1\n"
     ]
    }
   ],
   "source": [
    "for i in numeros:\n",
    "    print(i[-1])"
   ]
  },
  {
   "cell_type": "code",
   "execution_count": 43,
   "id": "d1628c92",
   "metadata": {},
   "outputs": [
    {
     "name": "stdout",
     "output_type": "stream",
     "text": [
      "345444\n",
      "954425\n",
      "655234\n"
     ]
    }
   ],
   "source": [
    "for i in numeros:\n",
    "    print(i[-11:-8] + i[-7:-4])"
   ]
  },
  {
   "cell_type": "code",
   "execution_count": 44,
   "id": "5e33eed0",
   "metadata": {},
   "outputs": [
    {
     "name": "stdout",
     "output_type": "stream",
     "text": [
      "+1 3\n",
      "+56 \n",
      "+32 \n"
     ]
    }
   ],
   "source": [
    "for i in numeros:\n",
    "    print(i[0:4])"
   ]
  },
  {
   "cell_type": "code",
   "execution_count": 46,
   "id": "92a6f2a1",
   "metadata": {},
   "outputs": [
    {
     "name": "stdout",
     "output_type": "stream",
     "text": [
      "+1\n",
      "+56\n",
      "+32\n"
     ]
    }
   ],
   "source": [
    "for i in numeros:\n",
    "    print(i.split()[0])"
   ]
  },
  {
   "cell_type": "code",
   "execution_count": null,
   "id": "c45edfa1",
   "metadata": {},
   "outputs": [],
   "source": []
  }
 ],
 "metadata": {
  "kernelspec": {
   "display_name": "Python 3 (ipykernel)",
   "language": "python",
   "name": "python3"
  },
  "language_info": {
   "codemirror_mode": {
    "name": "ipython",
    "version": 3
   },
   "file_extension": ".py",
   "mimetype": "text/x-python",
   "name": "python",
   "nbconvert_exporter": "python",
   "pygments_lexer": "ipython3",
   "version": "3.9.7"
  }
 },
 "nbformat": 4,
 "nbformat_minor": 5
}
